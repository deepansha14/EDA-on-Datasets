{
 "cells": [
  {
   "cell_type": "markdown",
   "id": "0f4fa355",
   "metadata": {},
   "source": [
    "### Data Analysis and Price Prediction of Battery Operated Vehicles using Random Forest Regressor"
   ]
  },
  {
   "cell_type": "code",
   "execution_count": 1,
   "id": "e7b77e65",
   "metadata": {},
   "outputs": [],
   "source": [
    "import numpy as np\n",
    "import pandas as pd\n",
    "import matplotlib.pyplot as plt\n",
    "import seaborn as sns"
   ]
  },
  {
   "cell_type": "code",
   "execution_count": 2,
   "id": "ca5665cd",
   "metadata": {},
   "outputs": [],
   "source": [
    "data = pd.read_csv(\"Cars.csv\")"
   ]
  },
  {
   "cell_type": "code",
   "execution_count": 3,
   "id": "47bd140c",
   "metadata": {},
   "outputs": [
    {
     "data": {
      "text/html": [
       "<div>\n",
       "<style scoped>\n",
       "    .dataframe tbody tr th:only-of-type {\n",
       "        vertical-align: middle;\n",
       "    }\n",
       "\n",
       "    .dataframe tbody tr th {\n",
       "        vertical-align: top;\n",
       "    }\n",
       "\n",
       "    .dataframe thead th {\n",
       "        text-align: right;\n",
       "    }\n",
       "</style>\n",
       "<table border=\"1\" class=\"dataframe\">\n",
       "  <thead>\n",
       "    <tr style=\"text-align: right;\">\n",
       "      <th></th>\n",
       "      <th>Name</th>\n",
       "      <th>Subtitle</th>\n",
       "      <th>Acceleration</th>\n",
       "      <th>TopSpeed</th>\n",
       "      <th>Range</th>\n",
       "      <th>Efficiency</th>\n",
       "      <th>FastChargeSpeed</th>\n",
       "      <th>Drive</th>\n",
       "      <th>NumberofSeats</th>\n",
       "      <th>PriceinGermany</th>\n",
       "      <th>PriceinUK</th>\n",
       "    </tr>\n",
       "  </thead>\n",
       "  <tbody>\n",
       "    <tr>\n",
       "      <th>0</th>\n",
       "      <td>Opel Ampera-e</td>\n",
       "      <td>Battery Electric Vehicle |       58 kWh</td>\n",
       "      <td>7.3 sec</td>\n",
       "      <td>150 km/h</td>\n",
       "      <td>335 km</td>\n",
       "      <td>173 Wh/km</td>\n",
       "      <td>210 km/h</td>\n",
       "      <td>Front Wheel Drive</td>\n",
       "      <td>5</td>\n",
       "      <td>€42,990</td>\n",
       "      <td>NaN</td>\n",
       "    </tr>\n",
       "    <tr>\n",
       "      <th>1</th>\n",
       "      <td>Renault Kangoo Maxi ZE 33</td>\n",
       "      <td>Battery Electric Vehicle |       31 kWh</td>\n",
       "      <td>22.4 sec</td>\n",
       "      <td>130 km/h</td>\n",
       "      <td>160 km</td>\n",
       "      <td>194 Wh/km</td>\n",
       "      <td>-</td>\n",
       "      <td>Front Wheel Drive</td>\n",
       "      <td>5</td>\n",
       "      <td>NaN</td>\n",
       "      <td>£31,680</td>\n",
       "    </tr>\n",
       "    <tr>\n",
       "      <th>2</th>\n",
       "      <td>Nissan Leaf</td>\n",
       "      <td>Battery Electric Vehicle |       36 kWh</td>\n",
       "      <td>7.9 sec</td>\n",
       "      <td>144 km/h</td>\n",
       "      <td>220 km</td>\n",
       "      <td>164 Wh/km</td>\n",
       "      <td>230 km/h</td>\n",
       "      <td>Front Wheel Drive</td>\n",
       "      <td>5</td>\n",
       "      <td>€29,990</td>\n",
       "      <td>£25,995</td>\n",
       "    </tr>\n",
       "    <tr>\n",
       "      <th>3</th>\n",
       "      <td>Audi e-tron Sportback 55 quattro</td>\n",
       "      <td>Battery Electric Vehicle |       86.5 kWh</td>\n",
       "      <td>5.7 sec</td>\n",
       "      <td>200 km/h</td>\n",
       "      <td>375 km</td>\n",
       "      <td>231 Wh/km</td>\n",
       "      <td>600 km/h</td>\n",
       "      <td>All Wheel Drive</td>\n",
       "      <td>5</td>\n",
       "      <td>NaN</td>\n",
       "      <td>£79,900</td>\n",
       "    </tr>\n",
       "    <tr>\n",
       "      <th>4</th>\n",
       "      <td>Porsche Taycan Turbo S</td>\n",
       "      <td>Battery Electric Vehicle |       83.7 kWh</td>\n",
       "      <td>2.8 sec</td>\n",
       "      <td>260 km/h</td>\n",
       "      <td>390 km</td>\n",
       "      <td>215 Wh/km</td>\n",
       "      <td>860 km/h</td>\n",
       "      <td>All Wheel Drive</td>\n",
       "      <td>4</td>\n",
       "      <td>€186,336</td>\n",
       "      <td>£138,830</td>\n",
       "    </tr>\n",
       "    <tr>\n",
       "      <th>5</th>\n",
       "      <td>Nissan e-NV200 Evalia</td>\n",
       "      <td>Battery Electric Vehicle |       36 kWh</td>\n",
       "      <td>14.0 sec</td>\n",
       "      <td>123 km/h</td>\n",
       "      <td>165 km</td>\n",
       "      <td>218 Wh/km</td>\n",
       "      <td>170 km/h</td>\n",
       "      <td>Front Wheel Drive</td>\n",
       "      <td>7</td>\n",
       "      <td>€43,433</td>\n",
       "      <td>£30,255</td>\n",
       "    </tr>\n",
       "    <tr>\n",
       "      <th>6</th>\n",
       "      <td>Volkswagen ID.3 Pure Performance</td>\n",
       "      <td>Battery Electric Vehicle |       45 kWh</td>\n",
       "      <td>8.9 sec</td>\n",
       "      <td>160 km/h</td>\n",
       "      <td>275 km</td>\n",
       "      <td>164 Wh/km</td>\n",
       "      <td>260 km/h</td>\n",
       "      <td>Rear Wheel Drive</td>\n",
       "      <td>5</td>\n",
       "      <td>€31,960</td>\n",
       "      <td>£27,120</td>\n",
       "    </tr>\n",
       "    <tr>\n",
       "      <th>7</th>\n",
       "      <td>BMW iX3</td>\n",
       "      <td>Battery Electric Vehicle |       74 kWh</td>\n",
       "      <td>6.8 sec</td>\n",
       "      <td>180 km/h</td>\n",
       "      <td>385 km</td>\n",
       "      <td>192 Wh/km</td>\n",
       "      <td>520 km/h</td>\n",
       "      <td>Rear Wheel Drive</td>\n",
       "      <td>5</td>\n",
       "      <td>€66,300</td>\n",
       "      <td>£58,850</td>\n",
       "    </tr>\n",
       "    <tr>\n",
       "      <th>8</th>\n",
       "      <td>Nissan Leaf e+</td>\n",
       "      <td>Battery Electric Vehicle |       56 kWh</td>\n",
       "      <td>7.3 sec</td>\n",
       "      <td>157 km/h</td>\n",
       "      <td>325 km</td>\n",
       "      <td>172 Wh/km</td>\n",
       "      <td>390 km/h</td>\n",
       "      <td>Front Wheel Drive</td>\n",
       "      <td>5</td>\n",
       "      <td>€38,350</td>\n",
       "      <td>£30,445</td>\n",
       "    </tr>\n",
       "    <tr>\n",
       "      <th>9</th>\n",
       "      <td>BMW i3 120 Ah</td>\n",
       "      <td>Battery Electric Vehicle |       37.9 kWh</td>\n",
       "      <td>7.3 sec</td>\n",
       "      <td>150 km/h</td>\n",
       "      <td>235 km</td>\n",
       "      <td>161 Wh/km</td>\n",
       "      <td>270 km/h</td>\n",
       "      <td>Rear Wheel Drive</td>\n",
       "      <td>4</td>\n",
       "      <td>€39,000</td>\n",
       "      <td>£31,305</td>\n",
       "    </tr>\n",
       "  </tbody>\n",
       "</table>\n",
       "</div>"
      ],
      "text/plain": [
       "                               Name  \\\n",
       "0                    Opel Ampera-e    \n",
       "1         Renault Kangoo Maxi ZE 33   \n",
       "2                      Nissan Leaf    \n",
       "3  Audi e-tron Sportback 55 quattro   \n",
       "4            Porsche Taycan Turbo S   \n",
       "5            Nissan e-NV200 Evalia    \n",
       "6  Volkswagen ID.3 Pure Performance   \n",
       "7                          BMW iX3    \n",
       "8                    Nissan Leaf e+   \n",
       "9                     BMW i3 120 Ah   \n",
       "\n",
       "                                    Subtitle Acceleration  TopSpeed   Range  \\\n",
       "0   Battery Electric Vehicle |       58 kWh       7.3 sec  150 km/h  335 km   \n",
       "1   Battery Electric Vehicle |       31 kWh      22.4 sec  130 km/h  160 km   \n",
       "2   Battery Electric Vehicle |       36 kWh       7.9 sec  144 km/h  220 km   \n",
       "3  Battery Electric Vehicle |       86.5 kWh      5.7 sec  200 km/h  375 km   \n",
       "4  Battery Electric Vehicle |       83.7 kWh      2.8 sec  260 km/h  390 km   \n",
       "5   Battery Electric Vehicle |       36 kWh      14.0 sec  123 km/h  165 km   \n",
       "6    Battery Electric Vehicle |       45 kWh      8.9 sec  160 km/h  275 km   \n",
       "7    Battery Electric Vehicle |       74 kWh      6.8 sec  180 km/h  385 km   \n",
       "8   Battery Electric Vehicle |       56 kWh       7.3 sec  157 km/h  325 km   \n",
       "9  Battery Electric Vehicle |       37.9 kWh      7.3 sec  150 km/h  235 km   \n",
       "\n",
       "  Efficiency FastChargeSpeed              Drive  NumberofSeats PriceinGermany  \\\n",
       "0  173 Wh/km        210 km/h  Front Wheel Drive              5        €42,990   \n",
       "1  194 Wh/km               -  Front Wheel Drive              5            NaN   \n",
       "2  164 Wh/km        230 km/h  Front Wheel Drive              5        €29,990   \n",
       "3  231 Wh/km        600 km/h    All Wheel Drive              5            NaN   \n",
       "4  215 Wh/km        860 km/h    All Wheel Drive              4       €186,336   \n",
       "5  218 Wh/km        170 km/h  Front Wheel Drive              7        €43,433   \n",
       "6  164 Wh/km        260 km/h   Rear Wheel Drive              5        €31,960   \n",
       "7  192 Wh/km        520 km/h   Rear Wheel Drive              5        €66,300   \n",
       "8  172 Wh/km        390 km/h  Front Wheel Drive              5        €38,350   \n",
       "9  161 Wh/km        270 km/h   Rear Wheel Drive              4        €39,000   \n",
       "\n",
       "  PriceinUK  \n",
       "0       NaN  \n",
       "1   £31,680  \n",
       "2   £25,995  \n",
       "3   £79,900  \n",
       "4  £138,830  \n",
       "5   £30,255  \n",
       "6   £27,120  \n",
       "7   £58,850  \n",
       "8   £30,445  \n",
       "9   £31,305  "
      ]
     },
     "execution_count": 3,
     "metadata": {},
     "output_type": "execute_result"
    }
   ],
   "source": [
    "data.head(10)"
   ]
  },
  {
   "cell_type": "code",
   "execution_count": 4,
   "id": "8c33ab9f",
   "metadata": {},
   "outputs": [
    {
     "name": "stdout",
     "output_type": "stream",
     "text": [
      "<class 'pandas.core.frame.DataFrame'>\n",
      "RangeIndex: 180 entries, 0 to 179\n",
      "Data columns (total 11 columns):\n",
      " #   Column           Non-Null Count  Dtype \n",
      "---  ------           --------------  ----- \n",
      " 0   Name             180 non-null    object\n",
      " 1   Subtitle         180 non-null    object\n",
      " 2   Acceleration     180 non-null    object\n",
      " 3   TopSpeed         180 non-null    object\n",
      " 4   Range            180 non-null    object\n",
      " 5   Efficiency       180 non-null    object\n",
      " 6   FastChargeSpeed  180 non-null    object\n",
      " 7   Drive            180 non-null    object\n",
      " 8   NumberofSeats    180 non-null    int64 \n",
      " 9   PriceinGermany   168 non-null    object\n",
      " 10  PriceinUK        136 non-null    object\n",
      "dtypes: int64(1), object(10)\n",
      "memory usage: 15.6+ KB\n"
     ]
    }
   ],
   "source": [
    "data.info()"
   ]
  },
  {
   "cell_type": "code",
   "execution_count": 5,
   "id": "682f61d6",
   "metadata": {},
   "outputs": [
    {
     "name": "stdout",
     "output_type": "stream",
     "text": [
      "Index(['Name', 'Subtitle', 'Acceleration', 'TopSpeed', 'Range', 'Efficiency',\n",
      "       'FastChargeSpeed', 'Drive', 'NumberofSeats', 'PriceinGermany',\n",
      "       'PriceinUK'],\n",
      "      dtype='object')\n"
     ]
    }
   ],
   "source": [
    "print(data.columns)"
   ]
  },
  {
   "cell_type": "code",
   "execution_count": 6,
   "id": "848e3cfd",
   "metadata": {},
   "outputs": [],
   "source": [
    "data = data.fillna('0')"
   ]
  },
  {
   "cell_type": "code",
   "execution_count": 7,
   "id": "3914fcc8",
   "metadata": {},
   "outputs": [],
   "source": [
    "data['Manufacturer'] = data['Name'].str.split(' ',1,expand=True)[0]"
   ]
  },
  {
   "cell_type": "code",
   "execution_count": 8,
   "id": "02fb9456",
   "metadata": {},
   "outputs": [
    {
     "name": "stdout",
     "output_type": "stream",
     "text": [
      "<class 'pandas.core.frame.DataFrame'>\n",
      "RangeIndex: 180 entries, 0 to 179\n",
      "Data columns (total 12 columns):\n",
      " #   Column           Non-Null Count  Dtype \n",
      "---  ------           --------------  ----- \n",
      " 0   Name             180 non-null    object\n",
      " 1   Subtitle         180 non-null    object\n",
      " 2   Acceleration     180 non-null    object\n",
      " 3   TopSpeed         180 non-null    object\n",
      " 4   Range            180 non-null    object\n",
      " 5   Efficiency       180 non-null    object\n",
      " 6   FastChargeSpeed  180 non-null    object\n",
      " 7   Drive            180 non-null    object\n",
      " 8   NumberofSeats    180 non-null    int64 \n",
      " 9   PriceinGermany   180 non-null    object\n",
      " 10  PriceinUK        180 non-null    object\n",
      " 11  Manufacturer     180 non-null    object\n",
      "dtypes: int64(1), object(11)\n",
      "memory usage: 17.0+ KB\n"
     ]
    }
   ],
   "source": [
    "data.info()"
   ]
  },
  {
   "cell_type": "code",
   "execution_count": 9,
   "id": "49c1e8e8",
   "metadata": {},
   "outputs": [
    {
     "data": {
      "text/plain": [
       "0         Opel\n",
       "1      Renault\n",
       "2       Nissan\n",
       "3         Audi\n",
       "4      Porsche\n",
       "        ...   \n",
       "175         MG\n",
       "176      Tesla\n",
       "177         MG\n",
       "178       Audi\n",
       "179       Audi\n",
       "Name: Manufacturer, Length: 180, dtype: object"
      ]
     },
     "execution_count": 9,
     "metadata": {},
     "output_type": "execute_result"
    }
   ],
   "source": [
    "data['Manufacturer']"
   ]
  },
  {
   "cell_type": "code",
   "execution_count": 10,
   "id": "165bb42c",
   "metadata": {},
   "outputs": [],
   "source": [
    "PriceinUK=[]\n",
    "for item in data['PriceinUK']:\n",
    "    PriceinUK +=[int(item.replace('£','').replace(',',''))]\n",
    "data['PriceinUK'] = PriceinUK"
   ]
  },
  {
   "cell_type": "code",
   "execution_count": 11,
   "id": "7f6b28e1",
   "metadata": {},
   "outputs": [
    {
     "data": {
      "text/plain": [
       "0           0\n",
       "1       31680\n",
       "2       25995\n",
       "3       79900\n",
       "4      138830\n",
       "        ...  \n",
       "175         0\n",
       "176         0\n",
       "177     26495\n",
       "178         0\n",
       "179         0\n",
       "Name: PriceinUK, Length: 180, dtype: int64"
      ]
     },
     "execution_count": 11,
     "metadata": {},
     "output_type": "execute_result"
    }
   ],
   "source": [
    "data['PriceinUK']"
   ]
  },
  {
   "cell_type": "code",
   "execution_count": 12,
   "id": "6e6e3c9b",
   "metadata": {},
   "outputs": [],
   "source": [
    "PriceinGermany=[]\n",
    "for item in data['PriceinGermany']:\n",
    "    PriceinGermany += [int(item.replace('€','').replace(',',''))]\n",
    "data['PriceinGermany'] = PriceinGermany"
   ]
  },
  {
   "cell_type": "code",
   "execution_count": 13,
   "id": "24f43e43",
   "metadata": {},
   "outputs": [
    {
     "data": {
      "text/plain": [
       "0       42990\n",
       "1           0\n",
       "2       29990\n",
       "3           0\n",
       "4      186336\n",
       "        ...  \n",
       "175     40000\n",
       "176     53560\n",
       "177         0\n",
       "178     50900\n",
       "179     49500\n",
       "Name: PriceinGermany, Length: 180, dtype: int64"
      ]
     },
     "execution_count": 13,
     "metadata": {},
     "output_type": "execute_result"
    }
   ],
   "source": [
    "data['PriceinGermany']"
   ]
  },
  {
   "cell_type": "code",
   "execution_count": 14,
   "id": "3f9be053",
   "metadata": {},
   "outputs": [],
   "source": [
    "FastChargeSpeed=[]\n",
    "for item in data['FastChargeSpeed']:\n",
    "    FastChargeSpeed += [int(item.replace(' km/h','').replace('-','0'))]\n",
    "data['FastChargeSpeed'] = FastChargeSpeed"
   ]
  },
  {
   "cell_type": "code",
   "execution_count": 15,
   "id": "77582ba1",
   "metadata": {},
   "outputs": [],
   "source": [
    "Efficiency = []\n",
    "for item in data['Efficiency']:\n",
    "    Efficiency += [int(item.replace(' Wh/km',''))]\n",
    "data['Efficiency'] = Efficiency"
   ]
  },
  {
   "cell_type": "code",
   "execution_count": 16,
   "id": "8c29877b",
   "metadata": {},
   "outputs": [
    {
     "data": {
      "text/html": [
       "<div>\n",
       "<style scoped>\n",
       "    .dataframe tbody tr th:only-of-type {\n",
       "        vertical-align: middle;\n",
       "    }\n",
       "\n",
       "    .dataframe tbody tr th {\n",
       "        vertical-align: top;\n",
       "    }\n",
       "\n",
       "    .dataframe thead th {\n",
       "        text-align: right;\n",
       "    }\n",
       "</style>\n",
       "<table border=\"1\" class=\"dataframe\">\n",
       "  <thead>\n",
       "    <tr style=\"text-align: right;\">\n",
       "      <th></th>\n",
       "      <th>Name</th>\n",
       "      <th>Subtitle</th>\n",
       "      <th>Acceleration</th>\n",
       "      <th>TopSpeed</th>\n",
       "      <th>Range</th>\n",
       "      <th>Efficiency</th>\n",
       "      <th>FastChargeSpeed</th>\n",
       "      <th>Drive</th>\n",
       "      <th>NumberofSeats</th>\n",
       "      <th>PriceinGermany</th>\n",
       "      <th>PriceinUK</th>\n",
       "      <th>Manufacturer</th>\n",
       "    </tr>\n",
       "  </thead>\n",
       "  <tbody>\n",
       "    <tr>\n",
       "      <th>0</th>\n",
       "      <td>Opel Ampera-e</td>\n",
       "      <td>Battery Electric Vehicle |       58 kWh</td>\n",
       "      <td>7.3 sec</td>\n",
       "      <td>150 km/h</td>\n",
       "      <td>335 km</td>\n",
       "      <td>173</td>\n",
       "      <td>210</td>\n",
       "      <td>Front Wheel Drive</td>\n",
       "      <td>5</td>\n",
       "      <td>42990</td>\n",
       "      <td>0</td>\n",
       "      <td>Opel</td>\n",
       "    </tr>\n",
       "    <tr>\n",
       "      <th>1</th>\n",
       "      <td>Renault Kangoo Maxi ZE 33</td>\n",
       "      <td>Battery Electric Vehicle |       31 kWh</td>\n",
       "      <td>22.4 sec</td>\n",
       "      <td>130 km/h</td>\n",
       "      <td>160 km</td>\n",
       "      <td>194</td>\n",
       "      <td>0</td>\n",
       "      <td>Front Wheel Drive</td>\n",
       "      <td>5</td>\n",
       "      <td>0</td>\n",
       "      <td>31680</td>\n",
       "      <td>Renault</td>\n",
       "    </tr>\n",
       "    <tr>\n",
       "      <th>2</th>\n",
       "      <td>Nissan Leaf</td>\n",
       "      <td>Battery Electric Vehicle |       36 kWh</td>\n",
       "      <td>7.9 sec</td>\n",
       "      <td>144 km/h</td>\n",
       "      <td>220 km</td>\n",
       "      <td>164</td>\n",
       "      <td>230</td>\n",
       "      <td>Front Wheel Drive</td>\n",
       "      <td>5</td>\n",
       "      <td>29990</td>\n",
       "      <td>25995</td>\n",
       "      <td>Nissan</td>\n",
       "    </tr>\n",
       "    <tr>\n",
       "      <th>3</th>\n",
       "      <td>Audi e-tron Sportback 55 quattro</td>\n",
       "      <td>Battery Electric Vehicle |       86.5 kWh</td>\n",
       "      <td>5.7 sec</td>\n",
       "      <td>200 km/h</td>\n",
       "      <td>375 km</td>\n",
       "      <td>231</td>\n",
       "      <td>600</td>\n",
       "      <td>All Wheel Drive</td>\n",
       "      <td>5</td>\n",
       "      <td>0</td>\n",
       "      <td>79900</td>\n",
       "      <td>Audi</td>\n",
       "    </tr>\n",
       "    <tr>\n",
       "      <th>4</th>\n",
       "      <td>Porsche Taycan Turbo S</td>\n",
       "      <td>Battery Electric Vehicle |       83.7 kWh</td>\n",
       "      <td>2.8 sec</td>\n",
       "      <td>260 km/h</td>\n",
       "      <td>390 km</td>\n",
       "      <td>215</td>\n",
       "      <td>860</td>\n",
       "      <td>All Wheel Drive</td>\n",
       "      <td>4</td>\n",
       "      <td>186336</td>\n",
       "      <td>138830</td>\n",
       "      <td>Porsche</td>\n",
       "    </tr>\n",
       "  </tbody>\n",
       "</table>\n",
       "</div>"
      ],
      "text/plain": [
       "                               Name  \\\n",
       "0                    Opel Ampera-e    \n",
       "1         Renault Kangoo Maxi ZE 33   \n",
       "2                      Nissan Leaf    \n",
       "3  Audi e-tron Sportback 55 quattro   \n",
       "4            Porsche Taycan Turbo S   \n",
       "\n",
       "                                    Subtitle Acceleration  TopSpeed   Range  \\\n",
       "0   Battery Electric Vehicle |       58 kWh       7.3 sec  150 km/h  335 km   \n",
       "1   Battery Electric Vehicle |       31 kWh      22.4 sec  130 km/h  160 km   \n",
       "2   Battery Electric Vehicle |       36 kWh       7.9 sec  144 km/h  220 km   \n",
       "3  Battery Electric Vehicle |       86.5 kWh      5.7 sec  200 km/h  375 km   \n",
       "4  Battery Electric Vehicle |       83.7 kWh      2.8 sec  260 km/h  390 km   \n",
       "\n",
       "   Efficiency  FastChargeSpeed              Drive  NumberofSeats  \\\n",
       "0         173              210  Front Wheel Drive              5   \n",
       "1         194                0  Front Wheel Drive              5   \n",
       "2         164              230  Front Wheel Drive              5   \n",
       "3         231              600    All Wheel Drive              5   \n",
       "4         215              860    All Wheel Drive              4   \n",
       "\n",
       "   PriceinGermany  PriceinUK Manufacturer  \n",
       "0           42990          0         Opel  \n",
       "1               0      31680      Renault  \n",
       "2           29990      25995       Nissan  \n",
       "3               0      79900         Audi  \n",
       "4          186336     138830      Porsche  "
      ]
     },
     "execution_count": 16,
     "metadata": {},
     "output_type": "execute_result"
    }
   ],
   "source": [
    "data.head()"
   ]
  },
  {
   "cell_type": "code",
   "execution_count": 17,
   "id": "46ad8cdf",
   "metadata": {},
   "outputs": [],
   "source": [
    "Acceleration = []\n",
    "for item in data['Acceleration']:\n",
    "    Acceleration += [float(item.replace(' sec',''))]\n",
    "data['Acceleration'] = Acceleration"
   ]
  },
  {
   "cell_type": "code",
   "execution_count": 18,
   "id": "b23b978c",
   "metadata": {},
   "outputs": [],
   "source": [
    "TopSpeed = []\n",
    "for item in data['TopSpeed']:\n",
    "    TopSpeed += [int(item.replace(' km/h',''))]\n",
    "data['TopSpeed'] = TopSpeed"
   ]
  },
  {
   "cell_type": "code",
   "execution_count": 19,
   "id": "3ac7117d",
   "metadata": {},
   "outputs": [],
   "source": [
    "Range = []\n",
    "for item in data['Range']:\n",
    "    Range += [int(item.replace(' km',''))]\n",
    "data['Range'] = Range"
   ]
  },
  {
   "cell_type": "code",
   "execution_count": 20,
   "id": "9708560c",
   "metadata": {},
   "outputs": [],
   "source": [
    "Subtitle=[]\n",
    "for item in data['Subtitle']:\n",
    "    Subtitle+=[float(item.replace('Battery Electric Vehicle | ','').replace(' kWh','').replace('      ',''))]\n",
    "data['Subtitle']=Subtitle"
   ]
  },
  {
   "cell_type": "code",
   "execution_count": 21,
   "id": "7984df8c",
   "metadata": {},
   "outputs": [],
   "source": [
    "data = data.rename(columns={'Subtitle':'KWH'})"
   ]
  },
  {
   "cell_type": "code",
   "execution_count": 22,
   "id": "f28277a7",
   "metadata": {},
   "outputs": [
    {
     "data": {
      "text/html": [
       "<div>\n",
       "<style scoped>\n",
       "    .dataframe tbody tr th:only-of-type {\n",
       "        vertical-align: middle;\n",
       "    }\n",
       "\n",
       "    .dataframe tbody tr th {\n",
       "        vertical-align: top;\n",
       "    }\n",
       "\n",
       "    .dataframe thead th {\n",
       "        text-align: right;\n",
       "    }\n",
       "</style>\n",
       "<table border=\"1\" class=\"dataframe\">\n",
       "  <thead>\n",
       "    <tr style=\"text-align: right;\">\n",
       "      <th></th>\n",
       "      <th>Name</th>\n",
       "      <th>KWH</th>\n",
       "      <th>Acceleration</th>\n",
       "      <th>TopSpeed</th>\n",
       "      <th>Range</th>\n",
       "      <th>Efficiency</th>\n",
       "      <th>FastChargeSpeed</th>\n",
       "      <th>Drive</th>\n",
       "      <th>NumberofSeats</th>\n",
       "      <th>PriceinGermany</th>\n",
       "      <th>PriceinUK</th>\n",
       "      <th>Manufacturer</th>\n",
       "    </tr>\n",
       "  </thead>\n",
       "  <tbody>\n",
       "    <tr>\n",
       "      <th>0</th>\n",
       "      <td>Opel Ampera-e</td>\n",
       "      <td>58.0</td>\n",
       "      <td>7.3</td>\n",
       "      <td>150</td>\n",
       "      <td>335</td>\n",
       "      <td>173</td>\n",
       "      <td>210</td>\n",
       "      <td>Front Wheel Drive</td>\n",
       "      <td>5</td>\n",
       "      <td>42990</td>\n",
       "      <td>0</td>\n",
       "      <td>Opel</td>\n",
       "    </tr>\n",
       "    <tr>\n",
       "      <th>1</th>\n",
       "      <td>Renault Kangoo Maxi ZE 33</td>\n",
       "      <td>31.0</td>\n",
       "      <td>22.4</td>\n",
       "      <td>130</td>\n",
       "      <td>160</td>\n",
       "      <td>194</td>\n",
       "      <td>0</td>\n",
       "      <td>Front Wheel Drive</td>\n",
       "      <td>5</td>\n",
       "      <td>0</td>\n",
       "      <td>31680</td>\n",
       "      <td>Renault</td>\n",
       "    </tr>\n",
       "    <tr>\n",
       "      <th>2</th>\n",
       "      <td>Nissan Leaf</td>\n",
       "      <td>36.0</td>\n",
       "      <td>7.9</td>\n",
       "      <td>144</td>\n",
       "      <td>220</td>\n",
       "      <td>164</td>\n",
       "      <td>230</td>\n",
       "      <td>Front Wheel Drive</td>\n",
       "      <td>5</td>\n",
       "      <td>29990</td>\n",
       "      <td>25995</td>\n",
       "      <td>Nissan</td>\n",
       "    </tr>\n",
       "    <tr>\n",
       "      <th>3</th>\n",
       "      <td>Audi e-tron Sportback 55 quattro</td>\n",
       "      <td>86.5</td>\n",
       "      <td>5.7</td>\n",
       "      <td>200</td>\n",
       "      <td>375</td>\n",
       "      <td>231</td>\n",
       "      <td>600</td>\n",
       "      <td>All Wheel Drive</td>\n",
       "      <td>5</td>\n",
       "      <td>0</td>\n",
       "      <td>79900</td>\n",
       "      <td>Audi</td>\n",
       "    </tr>\n",
       "    <tr>\n",
       "      <th>4</th>\n",
       "      <td>Porsche Taycan Turbo S</td>\n",
       "      <td>83.7</td>\n",
       "      <td>2.8</td>\n",
       "      <td>260</td>\n",
       "      <td>390</td>\n",
       "      <td>215</td>\n",
       "      <td>860</td>\n",
       "      <td>All Wheel Drive</td>\n",
       "      <td>4</td>\n",
       "      <td>186336</td>\n",
       "      <td>138830</td>\n",
       "      <td>Porsche</td>\n",
       "    </tr>\n",
       "  </tbody>\n",
       "</table>\n",
       "</div>"
      ],
      "text/plain": [
       "                               Name   KWH  Acceleration  TopSpeed  Range  \\\n",
       "0                    Opel Ampera-e   58.0           7.3       150    335   \n",
       "1         Renault Kangoo Maxi ZE 33  31.0          22.4       130    160   \n",
       "2                      Nissan Leaf   36.0           7.9       144    220   \n",
       "3  Audi e-tron Sportback 55 quattro  86.5           5.7       200    375   \n",
       "4            Porsche Taycan Turbo S  83.7           2.8       260    390   \n",
       "\n",
       "   Efficiency  FastChargeSpeed              Drive  NumberofSeats  \\\n",
       "0         173              210  Front Wheel Drive              5   \n",
       "1         194                0  Front Wheel Drive              5   \n",
       "2         164              230  Front Wheel Drive              5   \n",
       "3         231              600    All Wheel Drive              5   \n",
       "4         215              860    All Wheel Drive              4   \n",
       "\n",
       "   PriceinGermany  PriceinUK Manufacturer  \n",
       "0           42990          0         Opel  \n",
       "1               0      31680      Renault  \n",
       "2           29990      25995       Nissan  \n",
       "3               0      79900         Audi  \n",
       "4          186336     138830      Porsche  "
      ]
     },
     "execution_count": 22,
     "metadata": {},
     "output_type": "execute_result"
    }
   ],
   "source": [
    "data.head()"
   ]
  },
  {
   "cell_type": "code",
   "execution_count": 23,
   "id": "ae6cad23",
   "metadata": {},
   "outputs": [
    {
     "name": "stdout",
     "output_type": "stream",
     "text": [
      "<class 'pandas.core.frame.DataFrame'>\n",
      "RangeIndex: 180 entries, 0 to 179\n",
      "Data columns (total 12 columns):\n",
      " #   Column           Non-Null Count  Dtype  \n",
      "---  ------           --------------  -----  \n",
      " 0   Name             180 non-null    object \n",
      " 1   KWH              180 non-null    float64\n",
      " 2   Acceleration     180 non-null    float64\n",
      " 3   TopSpeed         180 non-null    int64  \n",
      " 4   Range            180 non-null    int64  \n",
      " 5   Efficiency       180 non-null    int64  \n",
      " 6   FastChargeSpeed  180 non-null    int64  \n",
      " 7   Drive            180 non-null    object \n",
      " 8   NumberofSeats    180 non-null    int64  \n",
      " 9   PriceinGermany   180 non-null    int64  \n",
      " 10  PriceinUK        180 non-null    int64  \n",
      " 11  Manufacturer     180 non-null    object \n",
      "dtypes: float64(2), int64(7), object(3)\n",
      "memory usage: 17.0+ KB\n"
     ]
    }
   ],
   "source": [
    "data.info()"
   ]
  },
  {
   "cell_type": "code",
   "execution_count": 24,
   "id": "f75f5d02",
   "metadata": {},
   "outputs": [
    {
     "data": {
      "text/plain": [
       "<AxesSubplot:>"
      ]
     },
     "execution_count": 24,
     "metadata": {},
     "output_type": "execute_result"
    },
    {
     "data": {
      "image/png": "[encoded data removed]",
      "text/plain": [
       "<Figure size 576x360 with 2 Axes>"
      ]
     },
     "metadata": {
      "needs_background": "light"
     },
     "output_type": "display_data"
    }
   ],
   "source": [
    "plt.figure(figsize=(8,5))\n",
    "sns.heatmap(data.corr(),cmap='Blues', annot=True)"
   ]
  },
  {
   "cell_type": "code",
   "execution_count": 25,
   "id": "e39acff3",
   "metadata": {},
   "outputs": [
    {
     "data": {
      "text/plain": [
       "<AxesSubplot:xlabel='Drive', ylabel='count'>"
      ]
     },
     "execution_count": 25,
     "metadata": {},
     "output_type": "execute_result"
    },
    {
     "data": {
      "image/png": "[encoded data removed]",
      "text/plain": [
       "<Figure size 432x288 with 1 Axes>"
      ]
     },
     "metadata": {
      "needs_background": "light"
     },
     "output_type": "display_data"
    }
   ],
   "source": [
    "sns.countplot(x='Drive', data=data, palette='Set3')"
   ]
  },
  {
   "cell_type": "code",
   "execution_count": 26,
   "id": "5ffc6453",
   "metadata": {},
   "outputs": [
    {
     "data": {
      "text/plain": [
       "<AxesSubplot:xlabel='NumberofSeats', ylabel='count'>"
      ]
     },
     "execution_count": 26,
     "metadata": {},
     "output_type": "execute_result"
    },
    {
     "data": {
      "image/png": "[encoded data removed]",
      "text/plain": [
       "<Figure size 432x288 with 1 Axes>"
      ]
     },
     "metadata": {
      "needs_background": "light"
     },
     "output_type": "display_data"
    }
   ],
   "source": [
    "sns.countplot(x='NumberofSeats', data=data, palette='Set3')"
   ]
  },
  {
   "cell_type": "code",
   "execution_count": 27,
   "id": "77d7e18b",
   "metadata": {},
   "outputs": [
    {
     "data": {
      "text/plain": [
       "<AxesSubplot:xlabel='count', ylabel='Manufacturer'>"
      ]
     },
     "execution_count": 27,
     "metadata": {},
     "output_type": "execute_result"
    },
    {
     "data": {
      "image/png": "[encoded data removed]",
      "text/plain": [
       "<Figure size 864x576 with 1 Axes>"
      ]
     },
     "metadata": {
      "needs_background": "light"
     },
     "output_type": "display_data"
    }
   ],
   "source": [
    "plt.figure(figsize=(12,8))\n",
    "sns.countplot(y=\"Manufacturer\",data=data)"
   ]
  },
  {
   "cell_type": "code",
   "execution_count": 28,
   "id": "f6fef5ae",
   "metadata": {},
   "outputs": [
    {
     "data": {
      "text/plain": [
       "<seaborn.axisgrid.FacetGrid at 0x1be24956880>"
      ]
     },
     "execution_count": 28,
     "metadata": {},
     "output_type": "execute_result"
    },
    {
     "data": {
      "image/png": "[encoded data removed]",
      "text/plain": [
       "<Figure size 485.5x360 with 1 Axes>"
      ]
     },
     "metadata": {
      "needs_background": "light"
     },
     "output_type": "display_data"
    }
   ],
   "source": [
    "sns.relplot(x='KWH',y='Acceleration', hue='Drive', data=data, palette='Set2')"
   ]
  },
  {
   "cell_type": "code",
   "execution_count": 29,
   "id": "160d8dbc",
   "metadata": {},
   "outputs": [
    {
     "data": {
      "text/plain": [
       "<seaborn.axisgrid.FacetGrid at 0x1be24948640>"
      ]
     },
     "execution_count": 29,
     "metadata": {},
     "output_type": "execute_result"
    },
    {
     "data": {
      "image/png": "[encoded data removed]",
      "text/plain": [
       "<Figure size 485.5x360 with 1 Axes>"
      ]
     },
     "metadata": {
      "needs_background": "light"
     },
     "output_type": "display_data"
    }
   ],
   "source": [
    "sns.relplot(x='Range',y='TopSpeed',hue='Drive', data=data,palette='Set2')"
   ]
  },
  {
   "cell_type": "code",
   "execution_count": 30,
   "id": "44572dbd",
   "metadata": {},
   "outputs": [
    {
     "data": {
      "text/plain": [
       "<seaborn.axisgrid.FacetGrid at 0x1be24848070>"
      ]
     },
     "execution_count": 30,
     "metadata": {},
     "output_type": "execute_result"
    },
    {
     "data": {
      "image/png": "[encoded data removed]",
      "text/plain": [
       "<Figure size 432x432 with 1 Axes>"
      ]
     },
     "metadata": {
      "needs_background": "light"
     },
     "output_type": "display_data"
    }
   ],
   "source": [
    "sns.relplot(x=\"FastChargeSpeed\", y=\"Efficiency\", height=6,data=data,palette='Set2')"
   ]
  },
  {
   "cell_type": "code",
   "execution_count": 31,
   "id": "8554ff8f",
   "metadata": {},
   "outputs": [
    {
     "name": "stdout",
     "output_type": "stream",
     "text": [
      "44\n"
     ]
    }
   ],
   "source": [
    "count = 0\n",
    "for i in range(0,len(data['PriceinUK'])):\n",
    "    if (data['PriceinUK'][i] == 0):\n",
    "        count = count+1;\n",
    "print(count)"
   ]
  },
  {
   "cell_type": "code",
   "execution_count": 32,
   "id": "1a6c699d",
   "metadata": {},
   "outputs": [],
   "source": [
    "pd.options.mode.chained_assignment = None"
   ]
  },
  {
   "cell_type": "code",
   "execution_count": 35,
   "id": "205b9487",
   "metadata": {},
   "outputs": [],
   "source": [
    "for i in range(0, len(data['PriceinUK'])):\n",
    "    if (data['PriceinUK'][i]==0):\n",
    "        val = data['PriceinUK'].mean()\n",
    "        data['PriceinUK'][i]=val"
   ]
  },
  {
   "cell_type": "code",
   "execution_count": 37,
   "id": "03af4782",
   "metadata": {},
   "outputs": [],
   "source": [
    "import category_encoders as ce\n",
    "train_data = data\n",
    "\n",
    "encoder = ce.OrdinalEncoder(cols=['Drive'],return_df = True,mapping=[{'col':'Drive','mapping':{'Front Wheel Drive':1,'Rear Wheel Drive':2,'All Wheel Drive':3}}])\n",
    "data_train = encoder.fit_transform(train_data)"
   ]
  },
  {
   "cell_type": "code",
   "execution_count": 38,
   "id": "9cdd3c0e",
   "metadata": {},
   "outputs": [
    {
     "name": "stdout",
     "output_type": "stream",
     "text": [
      "<class 'pandas.core.frame.DataFrame'>\n",
      "RangeIndex: 180 entries, 0 to 179\n",
      "Data columns (total 12 columns):\n",
      " #   Column           Non-Null Count  Dtype  \n",
      "---  ------           --------------  -----  \n",
      " 0   Name             180 non-null    object \n",
      " 1   KWH              180 non-null    float64\n",
      " 2   Acceleration     180 non-null    float64\n",
      " 3   TopSpeed         180 non-null    int64  \n",
      " 4   Range            180 non-null    int64  \n",
      " 5   Efficiency       180 non-null    int64  \n",
      " 6   FastChargeSpeed  180 non-null    int64  \n",
      " 7   Drive            180 non-null    int32  \n",
      " 8   NumberofSeats    180 non-null    int64  \n",
      " 9   PriceinGermany   180 non-null    int64  \n",
      " 10  PriceinUK        180 non-null    int64  \n",
      " 11  Manufacturer     180 non-null    object \n",
      "dtypes: float64(2), int32(1), int64(7), object(2)\n",
      "memory usage: 16.3+ KB\n"
     ]
    }
   ],
   "source": [
    "data_train.info()"
   ]
  },
  {
   "cell_type": "code",
   "execution_count": 39,
   "id": "e623873f",
   "metadata": {},
   "outputs": [],
   "source": [
    "X= data_train.drop(['Name', 'PriceinGermany','PriceinUK','Manufacturer'], axis=1)\n",
    "X=X.values"
   ]
  },
  {
   "cell_type": "code",
   "execution_count": 40,
   "id": "8d8833ce",
   "metadata": {},
   "outputs": [
    {
     "data": {
      "text/plain": [
       "array([[ 58. ,   7.3, 150. , ..., 210. ,   1. ,   5. ],\n",
       "       [ 31. ,  22.4, 130. , ...,   0. ,   1. ,   5. ],\n",
       "       [ 36. ,   7.9, 144. , ..., 230. ,   1. ,   5. ],\n",
       "       ...,\n",
       "       [ 57. ,   7.7, 185. , ..., 340. ,   1. ,   5. ],\n",
       "       [ 76.6,   6.9, 180. , ..., 470. ,   3. ,   5. ],\n",
       "       [ 76.6,   8.5, 160. , ..., 520. ,   2. ,   5. ]])"
      ]
     },
     "execution_count": 40,
     "metadata": {},
     "output_type": "execute_result"
    }
   ],
   "source": [
    "X"
   ]
  },
  {
   "cell_type": "code",
   "execution_count": 41,
   "id": "451315c8",
   "metadata": {},
   "outputs": [],
   "source": [
    "y = data_train['PriceinUK'].values"
   ]
  },
  {
   "cell_type": "code",
   "execution_count": 43,
   "id": "7b44fff9",
   "metadata": {},
   "outputs": [
    {
     "data": {
      "text/plain": [
       "(180, 8)"
      ]
     },
     "execution_count": 43,
     "metadata": {},
     "output_type": "execute_result"
    }
   ],
   "source": [
    "X.shape"
   ]
  },
  {
   "cell_type": "code",
   "execution_count": 44,
   "id": "5b5e6993",
   "metadata": {},
   "outputs": [
    {
     "data": {
      "text/plain": [
       "(180,)"
      ]
     },
     "execution_count": 44,
     "metadata": {},
     "output_type": "execute_result"
    }
   ],
   "source": [
    "y.shape"
   ]
  },
  {
   "cell_type": "code",
   "execution_count": 45,
   "id": "132fdf93",
   "metadata": {},
   "outputs": [],
   "source": [
    "from sklearn.model_selection import train_test_split\n",
    "X_train, X_test, y_train,y_test = train_test_split(X,y, test_size=0.3, random_state=3)"
   ]
  },
  {
   "cell_type": "code",
   "execution_count": 46,
   "id": "1be9b815",
   "metadata": {},
   "outputs": [],
   "source": [
    "from sklearn.ensemble import RandomForestRegressor\n",
    "regressor = RandomForestRegressor(n_estimators=100, random_state=0)"
   ]
  },
  {
   "cell_type": "code",
   "execution_count": 47,
   "id": "e6cb456a",
   "metadata": {},
   "outputs": [
    {
     "data": {
      "text/plain": [
       "RandomForestRegressor(random_state=0)"
      ]
     },
     "execution_count": 47,
     "metadata": {},
     "output_type": "execute_result"
    }
   ],
   "source": [
    "regressor.fit(X_train, y_train)"
   ]
  },
  {
   "cell_type": "code",
   "execution_count": 48,
   "id": "7443238e",
   "metadata": {},
   "outputs": [],
   "source": [
    "y_pred = regressor.predict(X_test)"
   ]
  },
  {
   "cell_type": "code",
   "execution_count": 49,
   "id": "bccf058e",
   "metadata": {},
   "outputs": [
    {
     "data": {
      "text/plain": [
       "array([ 60000,  79900,  45000,  26495,  44990,  27950,  27120,  29740,\n",
       "        30540,  48000,  45000,  41350, 115860,  30345, 138830,  45940,\n",
       "        40750,  65195,  25095,  37545,  31500,  31995,  48288,  88193,\n",
       "        48000,  43464,  49950,  30160,  21620,  48022,  74739,  42985,\n",
       "        41330,  42000,  39350,  43705,  42276, 139910,  50477,  83580,\n",
       "        30550,  19795,  25995,  42900,  30255,  49098,  70000,  30375,\n",
       "        32455,  32305, 110950,  54000,  32445,  40800], dtype=int64)"
      ]
     },
     "execution_count": 49,
     "metadata": {},
     "output_type": "execute_result"
    }
   ],
   "source": [
    "y_test"
   ]
  },
  {
   "cell_type": "code",
   "execution_count": 50,
   "id": "42ff43c5",
   "metadata": {},
   "outputs": [
    {
     "data": {
      "text/plain": [
       "array([ 63649.23      ,  51812.22933333,  50846.91666667,  40604.185     ,\n",
       "        46207.18      ,  40184.17      ,  29889.74      ,  31841.94      ,\n",
       "        32974.94416667,  65343.93      ,  46489.45583333,  35756.77      ,\n",
       "       100717.35      ,  34306.6575    , 101944.7       ,  45112.15900397,\n",
       "        37472.18875   ,  60871.97666667,  36124.94      ,  41862.98      ,\n",
       "        36611.48      ,  38199.39      ,  45872.72833333,  90981.25      ,\n",
       "        49495.73      ,  26527.79333333,  57944.47      ,  28011.33666667,\n",
       "        32567.6425    ,  43802.53      ,  75268.99333333,  61445.09363095,\n",
       "        51241.56666667,  51941.84      ,  45071.89      ,  43032.82399603,\n",
       "        31051.6025    , 102649.9       ,  52160.4       ,  67753.88      ,\n",
       "        34237.44666667,  33698.2325    ,  40329.29351587,  44397.94      ,\n",
       "        41774.70945635,  46476.14127381,  82568.19      ,  42353.15047222,\n",
       "        42353.15047222,  34621.87666667,  99399.95      ,  58320.74      ,\n",
       "        41862.98      ,  43837.01      ])"
      ]
     },
     "execution_count": 50,
     "metadata": {},
     "output_type": "execute_result"
    }
   ],
   "source": [
    "y_pred"
   ]
  },
  {
   "cell_type": "code",
   "execution_count": 51,
   "id": "99398d5f",
   "metadata": {},
   "outputs": [
    {
     "name": "stdout",
     "output_type": "stream",
     "text": [
      "Mae:  8533.123614638447\n"
     ]
    }
   ],
   "source": [
    "from sklearn.metrics import mean_absolute_error\n",
    "print(\"Mae: \",mean_absolute_error(y_test,y_pred))"
   ]
  },
  {
   "cell_type": "code",
   "execution_count": 52,
   "id": "3dee2022",
   "metadata": {},
   "outputs": [
    {
     "name": "stdout",
     "output_type": "stream",
     "text": [
      "MSE:  137709318.7575071\n"
     ]
    }
   ],
   "source": [
    "from sklearn.metrics import mean_squared_error\n",
    "print(\"MSE: \",mean_squared_error(y_test,y_pred))"
   ]
  },
  {
   "cell_type": "code",
   "execution_count": 53,
   "id": "dd2f53e6",
   "metadata": {},
   "outputs": [
    {
     "name": "stdout",
     "output_type": "stream",
     "text": [
      "RMSE:  11734.961387133197\n"
     ]
    }
   ],
   "source": [
    "print(\"RMSE: \",np.sqrt(mean_squared_error(y_test,y_pred)))"
   ]
  },
  {
   "cell_type": "code",
   "execution_count": null,
   "id": "ccbdcdfd",
   "metadata": {},
   "outputs": [],
   "source": []
  }
 ],
 "metadata": {
  "kernelspec": {
   "display_name": "Python 3",
   "language": "python",
   "name": "python3"
  },
  "language_info": {
   "codemirror_mode": {
    "name": "ipython",
    "version": 3
   },
   "file_extension": ".py",
   "mimetype": "text/x-python",
   "name": "python",
   "nbconvert_exporter": "python",
   "pygments_lexer": "ipython3",
   "version": "3.8.8"
  }
 },
 "nbformat": 4,
 "nbformat_minor": 5
}
