{
 "cells": [
  {
   "cell_type": "markdown",
   "id": "6b31f444",
   "metadata": {},
   "source": [
    "## Exploratory Data Analysis on Company's Stocks Dataset (Beginner)\n",
    "The dataset is a company's stocks dataset that contains seven records- date, opening value of the stock, closing value of the stock, high and low values of stock that day, the adjacent closing value of the stock, and the volume of stocks that had been traded that day. The dataset consists of 605 records. "
   ]
  },
  {
   "cell_type": "code",
   "execution_count": 1,
   "id": "76a07aae",
   "metadata": {},
   "outputs": [],
   "source": [
    "import pandas as pd\n",
    "import matplotlib.pyplot as plt\n",
    "import seaborn as sns"
   ]
  },
  {
   "cell_type": "code",
   "execution_count": 2,
   "id": "aa8cc5aa",
   "metadata": {},
   "outputs": [],
   "source": [
    "data = pd.read_csv(\"UBER.csv\",parse_dates=['Date'])"
   ]
  },
  {
   "cell_type": "code",
   "execution_count": 3,
   "id": "cabed69e",
   "metadata": {},
   "outputs": [
    {
     "data": {
      "text/html": [
       "<div>\n",
       "<style scoped>\n",
       "    .dataframe tbody tr th:only-of-type {\n",
       "        vertical-align: middle;\n",
       "    }\n",
       "\n",
       "    .dataframe tbody tr th {\n",
       "        vertical-align: top;\n",
       "    }\n",
       "\n",
       "    .dataframe thead th {\n",
       "        text-align: right;\n",
       "    }\n",
       "</style>\n",
       "<table border=\"1\" class=\"dataframe\">\n",
       "  <thead>\n",
       "    <tr style=\"text-align: right;\">\n",
       "      <th></th>\n",
       "      <th>Date</th>\n",
       "      <th>Open</th>\n",
       "      <th>High</th>\n",
       "      <th>Low</th>\n",
       "      <th>Close</th>\n",
       "      <th>Adj Close</th>\n",
       "      <th>Volume</th>\n",
       "    </tr>\n",
       "  </thead>\n",
       "  <tbody>\n",
       "    <tr>\n",
       "      <th>0</th>\n",
       "      <td>2019-05-10</td>\n",
       "      <td>42.000000</td>\n",
       "      <td>45.000000</td>\n",
       "      <td>41.060001</td>\n",
       "      <td>41.570000</td>\n",
       "      <td>41.570000</td>\n",
       "      <td>186322500</td>\n",
       "    </tr>\n",
       "    <tr>\n",
       "      <th>1</th>\n",
       "      <td>2019-05-13</td>\n",
       "      <td>38.790001</td>\n",
       "      <td>39.240002</td>\n",
       "      <td>36.080002</td>\n",
       "      <td>37.099998</td>\n",
       "      <td>37.099998</td>\n",
       "      <td>79442400</td>\n",
       "    </tr>\n",
       "    <tr>\n",
       "      <th>2</th>\n",
       "      <td>2019-05-14</td>\n",
       "      <td>38.310001</td>\n",
       "      <td>39.959999</td>\n",
       "      <td>36.849998</td>\n",
       "      <td>39.959999</td>\n",
       "      <td>39.959999</td>\n",
       "      <td>46661100</td>\n",
       "    </tr>\n",
       "    <tr>\n",
       "      <th>3</th>\n",
       "      <td>2019-05-15</td>\n",
       "      <td>39.369999</td>\n",
       "      <td>41.880001</td>\n",
       "      <td>38.950001</td>\n",
       "      <td>41.290001</td>\n",
       "      <td>41.290001</td>\n",
       "      <td>36086100</td>\n",
       "    </tr>\n",
       "    <tr>\n",
       "      <th>4</th>\n",
       "      <td>2019-05-16</td>\n",
       "      <td>41.480000</td>\n",
       "      <td>44.060001</td>\n",
       "      <td>41.250000</td>\n",
       "      <td>43.000000</td>\n",
       "      <td>43.000000</td>\n",
       "      <td>38115500</td>\n",
       "    </tr>\n",
       "  </tbody>\n",
       "</table>\n",
       "</div>"
      ],
      "text/plain": [
       "        Date       Open       High        Low      Close  Adj Close     Volume\n",
       "0 2019-05-10  42.000000  45.000000  41.060001  41.570000  41.570000  186322500\n",
       "1 2019-05-13  38.790001  39.240002  36.080002  37.099998  37.099998   79442400\n",
       "2 2019-05-14  38.310001  39.959999  36.849998  39.959999  39.959999   46661100\n",
       "3 2019-05-15  39.369999  41.880001  38.950001  41.290001  41.290001   36086100\n",
       "4 2019-05-16  41.480000  44.060001  41.250000  43.000000  43.000000   38115500"
      ]
     },
     "execution_count": 3,
     "metadata": {},
     "output_type": "execute_result"
    }
   ],
   "source": [
    "data.head()"
   ]
  },
  {
   "cell_type": "code",
   "execution_count": 4,
   "id": "df4581d5",
   "metadata": {},
   "outputs": [
    {
     "name": "stdout",
     "output_type": "stream",
     "text": [
      "<class 'pandas.core.frame.DataFrame'>\n",
      "RangeIndex: 725 entries, 0 to 724\n",
      "Data columns (total 7 columns):\n",
      " #   Column     Non-Null Count  Dtype         \n",
      "---  ------     --------------  -----         \n",
      " 0   Date       725 non-null    datetime64[ns]\n",
      " 1   Open       725 non-null    float64       \n",
      " 2   High       725 non-null    float64       \n",
      " 3   Low        725 non-null    float64       \n",
      " 4   Close      725 non-null    float64       \n",
      " 5   Adj Close  725 non-null    float64       \n",
      " 6   Volume     725 non-null    int64         \n",
      "dtypes: datetime64[ns](1), float64(5), int64(1)\n",
      "memory usage: 39.8 KB\n"
     ]
    }
   ],
   "source": [
    "data.info()"
   ]
  },
  {
   "cell_type": "code",
   "execution_count": 5,
   "id": "b3a3831b",
   "metadata": {},
   "outputs": [
    {
     "data": {
      "text/html": [
       "<div>\n",
       "<style scoped>\n",
       "    .dataframe tbody tr th:only-of-type {\n",
       "        vertical-align: middle;\n",
       "    }\n",
       "\n",
       "    .dataframe tbody tr th {\n",
       "        vertical-align: top;\n",
       "    }\n",
       "\n",
       "    .dataframe thead th {\n",
       "        text-align: right;\n",
       "    }\n",
       "</style>\n",
       "<table border=\"1\" class=\"dataframe\">\n",
       "  <thead>\n",
       "    <tr style=\"text-align: right;\">\n",
       "      <th></th>\n",
       "      <th>Open</th>\n",
       "      <th>High</th>\n",
       "      <th>Low</th>\n",
       "      <th>Close</th>\n",
       "      <th>Adj Close</th>\n",
       "      <th>Volume</th>\n",
       "    </tr>\n",
       "  </thead>\n",
       "  <tbody>\n",
       "    <tr>\n",
       "      <th>count</th>\n",
       "      <td>725.000000</td>\n",
       "      <td>725.000000</td>\n",
       "      <td>725.000000</td>\n",
       "      <td>725.000000</td>\n",
       "      <td>725.000000</td>\n",
       "      <td>7.250000e+02</td>\n",
       "    </tr>\n",
       "    <tr>\n",
       "      <th>mean</th>\n",
       "      <td>40.166447</td>\n",
       "      <td>40.961435</td>\n",
       "      <td>39.261123</td>\n",
       "      <td>40.107255</td>\n",
       "      <td>40.107255</td>\n",
       "      <td>2.472855e+07</td>\n",
       "    </tr>\n",
       "    <tr>\n",
       "      <th>std</th>\n",
       "      <td>9.198940</td>\n",
       "      <td>9.259164</td>\n",
       "      <td>9.075919</td>\n",
       "      <td>9.141862</td>\n",
       "      <td>9.141862</td>\n",
       "      <td>1.691406e+07</td>\n",
       "    </tr>\n",
       "    <tr>\n",
       "      <th>min</th>\n",
       "      <td>15.960000</td>\n",
       "      <td>17.799999</td>\n",
       "      <td>13.710000</td>\n",
       "      <td>14.820000</td>\n",
       "      <td>14.820000</td>\n",
       "      <td>3.380000e+06</td>\n",
       "    </tr>\n",
       "    <tr>\n",
       "      <th>25%</th>\n",
       "      <td>32.730000</td>\n",
       "      <td>33.419998</td>\n",
       "      <td>31.983000</td>\n",
       "      <td>32.799999</td>\n",
       "      <td>32.799999</td>\n",
       "      <td>1.423060e+07</td>\n",
       "    </tr>\n",
       "    <tr>\n",
       "      <th>50%</th>\n",
       "      <td>39.000000</td>\n",
       "      <td>39.959999</td>\n",
       "      <td>38.009998</td>\n",
       "      <td>38.810001</td>\n",
       "      <td>38.810001</td>\n",
       "      <td>2.079540e+07</td>\n",
       "    </tr>\n",
       "    <tr>\n",
       "      <th>75%</th>\n",
       "      <td>46.700001</td>\n",
       "      <td>47.520000</td>\n",
       "      <td>45.860001</td>\n",
       "      <td>46.419998</td>\n",
       "      <td>46.419998</td>\n",
       "      <td>3.011960e+07</td>\n",
       "    </tr>\n",
       "    <tr>\n",
       "      <th>max</th>\n",
       "      <td>63.250000</td>\n",
       "      <td>64.050003</td>\n",
       "      <td>60.799999</td>\n",
       "      <td>63.180000</td>\n",
       "      <td>63.180000</td>\n",
       "      <td>1.863225e+08</td>\n",
       "    </tr>\n",
       "  </tbody>\n",
       "</table>\n",
       "</div>"
      ],
      "text/plain": [
       "             Open        High         Low       Close   Adj Close  \\\n",
       "count  725.000000  725.000000  725.000000  725.000000  725.000000   \n",
       "mean    40.166447   40.961435   39.261123   40.107255   40.107255   \n",
       "std      9.198940    9.259164    9.075919    9.141862    9.141862   \n",
       "min     15.960000   17.799999   13.710000   14.820000   14.820000   \n",
       "25%     32.730000   33.419998   31.983000   32.799999   32.799999   \n",
       "50%     39.000000   39.959999   38.009998   38.810001   38.810001   \n",
       "75%     46.700001   47.520000   45.860001   46.419998   46.419998   \n",
       "max     63.250000   64.050003   60.799999   63.180000   63.180000   \n",
       "\n",
       "             Volume  \n",
       "count  7.250000e+02  \n",
       "mean   2.472855e+07  \n",
       "std    1.691406e+07  \n",
       "min    3.380000e+06  \n",
       "25%    1.423060e+07  \n",
       "50%    2.079540e+07  \n",
       "75%    3.011960e+07  \n",
       "max    1.863225e+08  "
      ]
     },
     "execution_count": 5,
     "metadata": {},
     "output_type": "execute_result"
    }
   ],
   "source": [
    "data.describe()"
   ]
  },
  {
   "cell_type": "markdown",
   "id": "a8a99f9f",
   "metadata": {},
   "source": [
    "From the above table, we can get several insights into the dataset. We can know a lot of useful information from the above table such as mean, standard deviation, value counts, and how often a value occurs in the dataset."
   ]
  },
  {
   "cell_type": "markdown",
   "id": "8047577f",
   "metadata": {},
   "source": [
    "### Plotting a heatmap to find the correlation between the different variables in the dataset."
   ]
  },
  {
   "cell_type": "code",
   "execution_count": 6,
   "id": "c31c4b66",
   "metadata": {},
   "outputs": [
    {
     "data": {
      "text/plain": [
       "<AxesSubplot:>"
      ]
     },
     "execution_count": 6,
     "metadata": {},
     "output_type": "execute_result"
    },
    {
     "data": {
      "image/png": "[encoded data removed]",
      "text/plain": [
       "<Figure size 576x360 with 2 Axes>"
      ]
     },
     "metadata": {
      "needs_background": "light"
     },
     "output_type": "display_data"
    }
   ],
   "source": [
    "plt.figure(figsize=(8,5))\n",
    "sns.heatmap(data.corr(), cmap=\"Blues\", annot=True)"
   ]
  },
  {
   "cell_type": "markdown",
   "id": "ef8f81a8",
   "metadata": {},
   "source": [
    "There are large number of 1s and values close to 1. This means those variables show high positive correlations and are interrelated. This might be possible because of the comparatively very small difference between those values. However, in-stock market this small value is what makes the difference. So we are going to add new variables to our dataset that represents the difference between those values."
   ]
  },
  {
   "cell_type": "code",
   "execution_count": 7,
   "id": "2147e3fe",
   "metadata": {},
   "outputs": [
    {
     "data": {
      "text/html": [
       "<div>\n",
       "<style scoped>\n",
       "    .dataframe tbody tr th:only-of-type {\n",
       "        vertical-align: middle;\n",
       "    }\n",
       "\n",
       "    .dataframe tbody tr th {\n",
       "        vertical-align: top;\n",
       "    }\n",
       "\n",
       "    .dataframe thead th {\n",
       "        text-align: right;\n",
       "    }\n",
       "</style>\n",
       "<table border=\"1\" class=\"dataframe\">\n",
       "  <thead>\n",
       "    <tr style=\"text-align: right;\">\n",
       "      <th></th>\n",
       "      <th>Date</th>\n",
       "      <th>Open</th>\n",
       "      <th>High</th>\n",
       "      <th>Low</th>\n",
       "      <th>Close</th>\n",
       "      <th>Adj Close</th>\n",
       "      <th>Volume</th>\n",
       "      <th>open-high</th>\n",
       "      <th>open-low</th>\n",
       "      <th>close-high</th>\n",
       "      <th>close-low</th>\n",
       "      <th>high-low</th>\n",
       "      <th>open-close</th>\n",
       "    </tr>\n",
       "  </thead>\n",
       "  <tbody>\n",
       "    <tr>\n",
       "      <th>0</th>\n",
       "      <td>2019-05-10</td>\n",
       "      <td>42.000000</td>\n",
       "      <td>45.000000</td>\n",
       "      <td>41.060001</td>\n",
       "      <td>41.570000</td>\n",
       "      <td>41.570000</td>\n",
       "      <td>186322500</td>\n",
       "      <td>-3.000000</td>\n",
       "      <td>0.939999</td>\n",
       "      <td>-3.430000</td>\n",
       "      <td>0.509999</td>\n",
       "      <td>3.939999</td>\n",
       "      <td>0.430000</td>\n",
       "    </tr>\n",
       "    <tr>\n",
       "      <th>1</th>\n",
       "      <td>2019-05-13</td>\n",
       "      <td>38.790001</td>\n",
       "      <td>39.240002</td>\n",
       "      <td>36.080002</td>\n",
       "      <td>37.099998</td>\n",
       "      <td>37.099998</td>\n",
       "      <td>79442400</td>\n",
       "      <td>-0.450001</td>\n",
       "      <td>2.709999</td>\n",
       "      <td>-2.140004</td>\n",
       "      <td>1.019996</td>\n",
       "      <td>3.160000</td>\n",
       "      <td>1.690003</td>\n",
       "    </tr>\n",
       "    <tr>\n",
       "      <th>2</th>\n",
       "      <td>2019-05-14</td>\n",
       "      <td>38.310001</td>\n",
       "      <td>39.959999</td>\n",
       "      <td>36.849998</td>\n",
       "      <td>39.959999</td>\n",
       "      <td>39.959999</td>\n",
       "      <td>46661100</td>\n",
       "      <td>-1.649998</td>\n",
       "      <td>1.460003</td>\n",
       "      <td>0.000000</td>\n",
       "      <td>3.110001</td>\n",
       "      <td>3.110001</td>\n",
       "      <td>-1.649998</td>\n",
       "    </tr>\n",
       "    <tr>\n",
       "      <th>3</th>\n",
       "      <td>2019-05-15</td>\n",
       "      <td>39.369999</td>\n",
       "      <td>41.880001</td>\n",
       "      <td>38.950001</td>\n",
       "      <td>41.290001</td>\n",
       "      <td>41.290001</td>\n",
       "      <td>36086100</td>\n",
       "      <td>-2.510002</td>\n",
       "      <td>0.419998</td>\n",
       "      <td>-0.590000</td>\n",
       "      <td>2.340000</td>\n",
       "      <td>2.930000</td>\n",
       "      <td>-1.920002</td>\n",
       "    </tr>\n",
       "    <tr>\n",
       "      <th>4</th>\n",
       "      <td>2019-05-16</td>\n",
       "      <td>41.480000</td>\n",
       "      <td>44.060001</td>\n",
       "      <td>41.250000</td>\n",
       "      <td>43.000000</td>\n",
       "      <td>43.000000</td>\n",
       "      <td>38115500</td>\n",
       "      <td>-2.580001</td>\n",
       "      <td>0.230000</td>\n",
       "      <td>-1.060001</td>\n",
       "      <td>1.750000</td>\n",
       "      <td>2.810001</td>\n",
       "      <td>-1.520000</td>\n",
       "    </tr>\n",
       "  </tbody>\n",
       "</table>\n",
       "</div>"
      ],
      "text/plain": [
       "        Date       Open       High        Low      Close  Adj Close  \\\n",
       "0 2019-05-10  42.000000  45.000000  41.060001  41.570000  41.570000   \n",
       "1 2019-05-13  38.790001  39.240002  36.080002  37.099998  37.099998   \n",
       "2 2019-05-14  38.310001  39.959999  36.849998  39.959999  39.959999   \n",
       "3 2019-05-15  39.369999  41.880001  38.950001  41.290001  41.290001   \n",
       "4 2019-05-16  41.480000  44.060001  41.250000  43.000000  43.000000   \n",
       "\n",
       "      Volume  open-high  open-low  close-high  close-low  high-low  open-close  \n",
       "0  186322500  -3.000000  0.939999   -3.430000   0.509999  3.939999    0.430000  \n",
       "1   79442400  -0.450001  2.709999   -2.140004   1.019996  3.160000    1.690003  \n",
       "2   46661100  -1.649998  1.460003    0.000000   3.110001  3.110001   -1.649998  \n",
       "3   36086100  -2.510002  0.419998   -0.590000   2.340000  2.930000   -1.920002  \n",
       "4   38115500  -2.580001  0.230000   -1.060001   1.750000  2.810001   -1.520000  "
      ]
     },
     "execution_count": 7,
     "metadata": {},
     "output_type": "execute_result"
    }
   ],
   "source": [
    "data['open-high'] = data['Open']-data['High']\n",
    "data['open-low'] = data['Open'] - data['Low']\n",
    "data['close-high'] = data['Close']-data['High']\n",
    "data['close-low'] = data['Close'] - data['Low']\n",
    "data['high-low'] = data['High'] - data['Low']\n",
    "data['open-close'] = data['Open'] - data['Close']\n",
    "data.head()"
   ]
  },
  {
   "cell_type": "markdown",
   "id": "18579a58",
   "metadata": {},
   "source": [
    "From the previous heatmap, we could realize that those values aren’t very useful. So for more clarity, we will drop those values and take only the new values for creating the heatmap."
   ]
  },
  {
   "cell_type": "code",
   "execution_count": 8,
   "id": "4874c55f",
   "metadata": {},
   "outputs": [],
   "source": [
    "data = data.drop(['Open','Close','High','Low'], axis=1)"
   ]
  },
  {
   "cell_type": "code",
   "execution_count": 9,
   "id": "d22fed8e",
   "metadata": {},
   "outputs": [
    {
     "data": {
      "text/plain": [
       "<AxesSubplot:>"
      ]
     },
     "execution_count": 9,
     "metadata": {},
     "output_type": "execute_result"
    },
    {
     "data": {
      "image/png": "[encoded data removed]",
      "text/plain": [
       "<Figure size 576x360 with 2 Axes>"
      ]
     },
     "metadata": {
      "needs_background": "light"
     },
     "output_type": "display_data"
    }
   ],
   "source": [
    "plt.figure(figsize=(8,5))\n",
    "sns.heatmap(data.corr(),cmap='Blues',annot=True)"
   ]
  },
  {
   "cell_type": "markdown",
   "id": "f76f07ad",
   "metadata": {},
   "source": [
    "The main variable we are going to focus on in this dataset is the ‘Volume’. Variables having a large correlation value with volume represent that those numbers might have intrigued a large number of buyers and sellers. Correlation between those features and the volume feature will tell us how a change in that feature impacts the number of stocks traded that day.\n",
    "\n",
    "The open-high shows the most negative correlation with the volume feature. This means that the greater the difference between the opening value of the stock and the highest value of stock that day, the greater will be the stocks traded that day. "
   ]
  },
  {
   "cell_type": "code",
   "execution_count": 10,
   "id": "d34d9e8d",
   "metadata": {},
   "outputs": [
    {
     "data": {
      "text/plain": [
       "<AxesSubplot:xlabel='open-high', ylabel='Volume'>"
      ]
     },
     "execution_count": 10,
     "metadata": {},
     "output_type": "execute_result"
    },
    {
     "data": {
      "image/png": "[encoded data removed]",
      "text/plain": [
       "<Figure size 432x288 with 1 Axes>"
      ]
     },
     "metadata": {
      "needs_background": "light"
     },
     "output_type": "display_data"
    }
   ],
   "source": [
    "sns.barplot(data=data, x = \"open-high\", y=\"Volume\")"
   ]
  },
  {
   "cell_type": "markdown",
   "id": "8537db04",
   "metadata": {},
   "source": [
    "The ‘high-low’ feature shows the maximum value of correlation with the ‘volume’ feature. Thus we can think that a greater fluctuation in the stock price may be a reason behind more transactions of stocks that day."
   ]
  },
  {
   "cell_type": "code",
   "execution_count": 11,
   "id": "4157d847",
   "metadata": {},
   "outputs": [
    {
     "data": {
      "text/plain": [
       "<AxesSubplot:xlabel='high-low', ylabel='Volume'>"
      ]
     },
     "execution_count": 11,
     "metadata": {},
     "output_type": "execute_result"
    },
    {
     "data": {
      "image/png": "[encoded data removed]",
      "text/plain": [
       "<Figure size 432x288 with 1 Axes>"
      ]
     },
     "metadata": {
      "needs_background": "light"
     },
     "output_type": "display_data"
    }
   ],
   "source": [
    "sns.barplot(data=data, x = \"high-low\", y=\"Volume\")"
   ]
  },
  {
   "cell_type": "code",
   "execution_count": null,
   "id": "16d838a4",
   "metadata": {},
   "outputs": [],
   "source": []
  }
 ],
 "metadata": {
  "kernelspec": {
   "display_name": "Python 3",
   "language": "python",
   "name": "python3"
  },
  "language_info": {
   "codemirror_mode": {
    "name": "ipython",
    "version": 3
   },
   "file_extension": ".py",
   "mimetype": "text/x-python",
   "name": "python",
   "nbconvert_exporter": "python",
   "pygments_lexer": "ipython3",
   "version": "3.8.8"
  }
 },
 "nbformat": 4,
 "nbformat_minor": 5
}
